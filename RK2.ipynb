{
 "cells": [
  {
   "cell_type": "markdown",
   "id": "adec9966",
   "metadata": {},
   "source": [
    "# Щипицина К.В. ИУ5-22М\n",
    "## Рубежный контроль №2"
   ]
  },
  {
   "cell_type": "markdown",
   "id": "23256fdc",
   "metadata": {},
   "source": [
    "### Решение задачи классификации текстов\n",
    "#### Классификатор №1 \n",
    "RandomForestClassifier\n",
    "\n",
    "#### Классификатор №2 \n",
    "Complement Naive Bayes - CNB"
   ]
  },
  {
   "cell_type": "code",
   "execution_count": 1,
   "id": "944a9a6b",
   "metadata": {},
   "outputs": [],
   "source": [
    "import numpy as np \n",
    "import pandas as pd\n",
    "from sklearn.feature_extraction.text import TfidfVectorizer, CountVectorizer\n",
    "from sklearn.preprocessing import LabelEncoder\n",
    "from sklearn.model_selection import train_test_split\n",
    "from sklearn.pipeline import Pipeline    \n",
    "from sklearn.naive_bayes import MultinomialNB\n",
    "from sklearn.ensemble import RandomForestClassifier\n",
    "from sklearn.model_selection import cross_val_score\n",
    "from sklearn.metrics import precision_score, recall_score, plot_confusion_matrix, classification_report, accuracy_score, f1_score\n",
    "from sklearn import metrics\n",
    "from typing import Dict, Tuple\n",
    "from sklearn.naive_bayes import ComplementNB\n",
    "from sklearn.ensemble import RandomForestClassifier"
   ]
  },
  {
   "cell_type": "code",
   "execution_count": 2,
   "id": "20c98a1d",
   "metadata": {
    "scrolled": true
   },
   "outputs": [],
   "source": [
    "df=pd.read_csv(\"../spam.csv\", encoding=\"latin-1\")\n"
   ]
  },
  {
   "cell_type": "code",
   "execution_count": 3,
   "id": "2030de1c",
   "metadata": {},
   "outputs": [
    {
     "data": {
      "text/html": [
       "<div>\n",
       "<style scoped>\n",
       "    .dataframe tbody tr th:only-of-type {\n",
       "        vertical-align: middle;\n",
       "    }\n",
       "\n",
       "    .dataframe tbody tr th {\n",
       "        vertical-align: top;\n",
       "    }\n",
       "\n",
       "    .dataframe thead th {\n",
       "        text-align: right;\n",
       "    }\n",
       "</style>\n",
       "<table border=\"1\" class=\"dataframe\">\n",
       "  <thead>\n",
       "    <tr style=\"text-align: right;\">\n",
       "      <th></th>\n",
       "      <th>target</th>\n",
       "      <th>message</th>\n",
       "    </tr>\n",
       "  </thead>\n",
       "  <tbody>\n",
       "    <tr>\n",
       "      <th>0</th>\n",
       "      <td>ham</td>\n",
       "      <td>Go until jurong point, crazy.. Available only ...</td>\n",
       "    </tr>\n",
       "    <tr>\n",
       "      <th>1</th>\n",
       "      <td>ham</td>\n",
       "      <td>Ok lar... Joking wif u oni...</td>\n",
       "    </tr>\n",
       "    <tr>\n",
       "      <th>2</th>\n",
       "      <td>spam</td>\n",
       "      <td>Free entry in 2 a wkly comp to win FA Cup fina...</td>\n",
       "    </tr>\n",
       "    <tr>\n",
       "      <th>3</th>\n",
       "      <td>ham</td>\n",
       "      <td>U dun say so early hor... U c already then say...</td>\n",
       "    </tr>\n",
       "    <tr>\n",
       "      <th>4</th>\n",
       "      <td>ham</td>\n",
       "      <td>Nah I don't think he goes to usf, he lives aro...</td>\n",
       "    </tr>\n",
       "  </tbody>\n",
       "</table>\n",
       "</div>"
      ],
      "text/plain": [
       "  target                                            message\n",
       "0    ham  Go until jurong point, crazy.. Available only ...\n",
       "1    ham                      Ok lar... Joking wif u oni...\n",
       "2   spam  Free entry in 2 a wkly comp to win FA Cup fina...\n",
       "3    ham  U dun say so early hor... U c already then say...\n",
       "4    ham  Nah I don't think he goes to usf, he lives aro..."
      ]
     },
     "execution_count": 3,
     "metadata": {},
     "output_type": "execute_result"
    }
   ],
   "source": [
    "# Оставим только необходимые признаки\n",
    "to_drop = [\"Unnamed: 2\",\"Unnamed: 3\",\"Unnamed: 4\"]\n",
    "df = df.drop(df[to_drop], axis=1)\n",
    "df.rename(columns = {\"v1\":\"target\", \"v2\":\"message\"}, inplace = True)\n",
    "df.head()"
   ]
  },
  {
   "cell_type": "code",
   "execution_count": 4,
   "id": "65746991",
   "metadata": {},
   "outputs": [
    {
     "data": {
      "text/plain": [
       "ham     4825\n",
       "spam     747\n",
       "Name: target, dtype: int64"
      ]
     },
     "execution_count": 4,
     "metadata": {},
     "output_type": "execute_result"
    }
   ],
   "source": [
    "df.target.value_counts()"
   ]
  },
  {
   "cell_type": "code",
   "execution_count": 5,
   "id": "5005322b",
   "metadata": {},
   "outputs": [
    {
     "data": {
      "text/plain": [
       "['Ok lar... Joking wif u oni...',\n",
       " \"Free entry in 2 a wkly comp to win FA Cup final tkts 21st May 2005. Text FA to 87121 to receive entry question(std txt rate)T&C's apply 08452810075over18's\",\n",
       " 'U dun say so early hor... U c already then say...',\n",
       " \"Nah I don't think he goes to usf, he lives around here though\"]"
      ]
     },
     "execution_count": 5,
     "metadata": {},
     "output_type": "execute_result"
    }
   ],
   "source": [
    "# Сформируем общий словарь для обучения моделей из обучающей и тестовой выборки\n",
    "vocab_list = df['message'].tolist()\n",
    "vocab_list[1:5]"
   ]
  },
  {
   "cell_type": "code",
   "execution_count": 6,
   "id": "a440003c",
   "metadata": {},
   "outputs": [
    {
     "name": "stdout",
     "output_type": "stream",
     "text": [
      "Количество сформированных признаков - 8672\n"
     ]
    }
   ],
   "source": [
    "# посмотрим на количество признаков\n",
    "vocabVect = CountVectorizer()\n",
    "vocabVect.fit(vocab_list)\n",
    "corpusVocab = vocabVect.vocabulary_\n",
    "print('Количество сформированных признаков - {}'.format(len(corpusVocab)))\n"
   ]
  },
  {
   "cell_type": "code",
   "execution_count": 7,
   "id": "ae3d58f3",
   "metadata": {},
   "outputs": [],
   "source": [
    "def VectorizeAndClassify(vectorizers_list, classifiers_list):\n",
    "    for v in vectorizers_list:\n",
    "        for c in classifiers_list:\n",
    "            pipeline1 = Pipeline([(\"vectorizer\", v), (\"classifier\", c)])\n",
    "            score = cross_val_score(pipeline1, df['message'], df['target'], scoring='accuracy', cv=3).mean()\n",
    "            print('Векторизация - {}'.format(v))\n",
    "            print('Модель для классификации - {}'.format(c))\n",
    "            print('Accuracy = {}'.format(score))\n",
    "            print('===========================')"
   ]
  },
  {
   "cell_type": "code",
   "execution_count": 8,
   "id": "aaddce21",
   "metadata": {},
   "outputs": [
    {
     "name": "stdout",
     "output_type": "stream",
     "text": [
      "Векторизация - CountVectorizer()\n",
      "Модель для классификации - RandomForestClassifier()\n",
      "Accuracy = 0.9739768008982391\n",
      "===========================\n",
      "Векторизация - CountVectorizer()\n",
      "Модель для классификации - ComplementNB()\n",
      "Accuracy = 0.9782846313727922\n",
      "===========================\n",
      "Векторизация - TfidfVectorizer()\n",
      "Модель для классификации - RandomForestClassifier()\n",
      "Accuracy = 0.9746944184081064\n",
      "===========================\n",
      "Векторизация - TfidfVectorizer()\n",
      "Модель для классификации - ComplementNB()\n",
      "Accuracy = 0.9784628764327956\n",
      "===========================\n"
     ]
    }
   ],
   "source": [
    "vectorizers_list = [CountVectorizer(), TfidfVectorizer()]\n",
    "classifiers_list = [RandomForestClassifier(), ComplementNB()]\n",
    "VectorizeAndClassify(vectorizers_list, classifiers_list)"
   ]
  },
  {
   "cell_type": "markdown",
   "id": "7965e564",
   "metadata": {},
   "source": [
    "### Использование N-грамм"
   ]
  },
  {
   "cell_type": "code",
   "execution_count": 9,
   "id": "5de29ff8",
   "metadata": {},
   "outputs": [],
   "source": [
    "X_train, X_test, y_train, y_test = train_test_split(df['message'], df['target'], test_size=0.3, random_state=1)\n"
   ]
  },
  {
   "cell_type": "code",
   "execution_count": 10,
   "id": "c001d0fe",
   "metadata": {},
   "outputs": [],
   "source": [
    "def sentiment(v, c):\n",
    "    model = Pipeline(\n",
    "        [(\"vectorizer\", v), \n",
    "         (\"classifier\", c)])\n",
    "    model.fit(X_train, y_train)\n",
    "    y_pred = model.predict(X_test)\n",
    "    print(classification_report(y_test, y_pred, digits=4))"
   ]
  },
  {
   "cell_type": "code",
   "execution_count": 11,
   "id": "5d2115fb",
   "metadata": {
    "scrolled": true
   },
   "outputs": [
    {
     "name": "stdout",
     "output_type": "stream",
     "text": [
      "              precision    recall  f1-score   support\n",
      "\n",
      "         ham     0.9803    0.9917    0.9860      1454\n",
      "        spam     0.9403    0.8670    0.9021       218\n",
      "\n",
      "    accuracy                         0.9755      1672\n",
      "   macro avg     0.9603    0.9294    0.9441      1672\n",
      "weighted avg     0.9751    0.9755    0.9751      1672\n",
      "\n"
     ]
    }
   ],
   "source": [
    "sentiment(TfidfVectorizer(), ComplementNB())\n"
   ]
  },
  {
   "cell_type": "code",
   "execution_count": 12,
   "id": "f9d52800",
   "metadata": {
    "scrolled": true
   },
   "outputs": [
    {
     "name": "stdout",
     "output_type": "stream",
     "text": [
      "              precision    recall  f1-score   support\n",
      "\n",
      "         ham     0.9719    0.9993    0.9854      1454\n",
      "        spam     0.9944    0.8073    0.8911       218\n",
      "\n",
      "    accuracy                         0.9743      1672\n",
      "   macro avg     0.9831    0.9033    0.9383      1672\n",
      "weighted avg     0.9748    0.9743    0.9731      1672\n",
      "\n"
     ]
    }
   ],
   "source": [
    "sentiment(TfidfVectorizer(ngram_range=(1,3)), ComplementNB())\n"
   ]
  },
  {
   "cell_type": "code",
   "execution_count": 13,
   "id": "21def8c6",
   "metadata": {},
   "outputs": [
    {
     "name": "stdout",
     "output_type": "stream",
     "text": [
      "              precision    recall  f1-score   support\n",
      "\n",
      "         ham     0.9847    0.9759    0.9803      1454\n",
      "        spam     0.8485    0.8991    0.8731       218\n",
      "\n",
      "    accuracy                         0.9659      1672\n",
      "   macro avg     0.9166    0.9375    0.9267      1672\n",
      "weighted avg     0.9670    0.9659    0.9663      1672\n",
      "\n"
     ]
    }
   ],
   "source": [
    "sentiment(TfidfVectorizer(ngram_range=(2,3)), ComplementNB())\n"
   ]
  },
  {
   "cell_type": "markdown",
   "id": "f85a486e",
   "metadata": {},
   "source": [
    "### Вывод \n",
    "Если оценивать качество, используя метрику accuracy, то лучшим оказался вариант TfidfVectorizer + ComplementNB.\n",
    "\n",
    "Однако, в зависимости от целей посторения модели, необходимо обратить внимание на метрики precision, recall и f-меру.\n",
    "\n",
    "При использовании N-грамм точность уменьшилась."
   ]
  }
 ],
 "metadata": {
  "kernelspec": {
   "display_name": "Python 3 (ipykernel)",
   "language": "python",
   "name": "python3"
  },
  "language_info": {
   "codemirror_mode": {
    "name": "ipython",
    "version": 3
   },
   "file_extension": ".py",
   "mimetype": "text/x-python",
   "name": "python",
   "nbconvert_exporter": "python",
   "pygments_lexer": "ipython3",
   "version": "3.9.7"
  }
 },
 "nbformat": 4,
 "nbformat_minor": 5
}
