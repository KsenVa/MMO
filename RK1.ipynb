{
 "cells": [
  {
   "cell_type": "markdown",
   "id": "6495c155",
   "metadata": {},
   "source": [
    "# Щипицина К.В. ИУ5-22М\n",
    "## Вариант 11"
   ]
  },
  {
   "cell_type": "markdown",
   "id": "b71ae18c",
   "metadata": {},
   "source": [
    "### Номер задачи №1 - 11\n",
    "Задача №11.\n",
    "Для набора данных проведите устранение пропусков для одного (произвольного) категориального признака с использованием метода заполнения отдельной категорией для пропущенных значений.\n",
    "### Номер задачи №2 - 31\n",
    "Задача №31.\n",
    "Для набора данных проведите процедуру отбора признаков (feature selection). Используйте метод обертывания (wrapper method), прямой алгоритм (sequential forward selection).\n",
    "### Дополнительное требование\n",
    "Для произвольной колонки данных построить гистограмму."
   ]
  },
  {
   "cell_type": "code",
   "execution_count": 1,
   "id": "f5590071",
   "metadata": {},
   "outputs": [],
   "source": [
    "import numpy as np\n",
    "import pandas as pd\n",
    "import seaborn as sns\n",
    "import matplotlib.pyplot as plt\n",
    "from sklearn.impute import SimpleImputer\n",
    "from sklearn.impute import MissingIndicator\n",
    "from sklearn.impute import KNNImputer\n",
    "from sklearn.preprocessing import StandardScaler\n",
    "from sklearn.pipeline import Pipeline\n",
    "from sklearn.model_selection import GridSearchCV\n",
    "from sklearn.experimental import enable_iterative_imputer\n",
    "from sklearn.impute import IterativeImputer\n",
    "from IPython.display import Image\n",
    "import matplotlib.pyplot as plt\n",
    "%matplotlib inline \n",
    "sns.set(style=\"ticks\")"
   ]
  },
  {
   "cell_type": "markdown",
   "id": "f42e6899",
   "metadata": {},
   "source": [
    "## Задача №1"
   ]
  },
  {
   "cell_type": "code",
   "execution_count": 2,
   "id": "47b03099",
   "metadata": {},
   "outputs": [],
   "source": [
    "data = pd.read_csv(\"../vgsales.csv\")"
   ]
  },
  {
   "cell_type": "code",
   "execution_count": 3,
   "id": "aec817ad",
   "metadata": {},
   "outputs": [
    {
     "data": {
      "text/plain": [
       "(16598, 11)"
      ]
     },
     "execution_count": 3,
     "metadata": {},
     "output_type": "execute_result"
    }
   ],
   "source": [
    "data.shape"
   ]
  },
  {
   "cell_type": "code",
   "execution_count": 4,
   "id": "9b8cb6cc",
   "metadata": {},
   "outputs": [
    {
     "data": {
      "text/html": [
       "<div>\n",
       "<style scoped>\n",
       "    .dataframe tbody tr th:only-of-type {\n",
       "        vertical-align: middle;\n",
       "    }\n",
       "\n",
       "    .dataframe tbody tr th {\n",
       "        vertical-align: top;\n",
       "    }\n",
       "\n",
       "    .dataframe thead th {\n",
       "        text-align: right;\n",
       "    }\n",
       "</style>\n",
       "<table border=\"1\" class=\"dataframe\">\n",
       "  <thead>\n",
       "    <tr style=\"text-align: right;\">\n",
       "      <th></th>\n",
       "      <th>Rank</th>\n",
       "      <th>Name</th>\n",
       "      <th>Platform</th>\n",
       "      <th>Year</th>\n",
       "      <th>Genre</th>\n",
       "      <th>Publisher</th>\n",
       "      <th>NA_Sales</th>\n",
       "      <th>EU_Sales</th>\n",
       "      <th>JP_Sales</th>\n",
       "      <th>Other_Sales</th>\n",
       "      <th>Global_Sales</th>\n",
       "    </tr>\n",
       "  </thead>\n",
       "  <tbody>\n",
       "    <tr>\n",
       "      <th>0</th>\n",
       "      <td>1</td>\n",
       "      <td>Wii Sports</td>\n",
       "      <td>Wii</td>\n",
       "      <td>2006.0</td>\n",
       "      <td>Sports</td>\n",
       "      <td>Nintendo</td>\n",
       "      <td>41.49</td>\n",
       "      <td>29.02</td>\n",
       "      <td>3.77</td>\n",
       "      <td>8.46</td>\n",
       "      <td>82.74</td>\n",
       "    </tr>\n",
       "    <tr>\n",
       "      <th>1</th>\n",
       "      <td>2</td>\n",
       "      <td>Super Mario Bros.</td>\n",
       "      <td>NES</td>\n",
       "      <td>1985.0</td>\n",
       "      <td>Platform</td>\n",
       "      <td>Nintendo</td>\n",
       "      <td>29.08</td>\n",
       "      <td>3.58</td>\n",
       "      <td>6.81</td>\n",
       "      <td>0.77</td>\n",
       "      <td>40.24</td>\n",
       "    </tr>\n",
       "    <tr>\n",
       "      <th>2</th>\n",
       "      <td>3</td>\n",
       "      <td>Mario Kart Wii</td>\n",
       "      <td>Wii</td>\n",
       "      <td>2008.0</td>\n",
       "      <td>Racing</td>\n",
       "      <td>Nintendo</td>\n",
       "      <td>15.85</td>\n",
       "      <td>12.88</td>\n",
       "      <td>3.79</td>\n",
       "      <td>3.31</td>\n",
       "      <td>35.82</td>\n",
       "    </tr>\n",
       "    <tr>\n",
       "      <th>3</th>\n",
       "      <td>4</td>\n",
       "      <td>Wii Sports Resort</td>\n",
       "      <td>Wii</td>\n",
       "      <td>2009.0</td>\n",
       "      <td>Sports</td>\n",
       "      <td>Nintendo</td>\n",
       "      <td>15.75</td>\n",
       "      <td>11.01</td>\n",
       "      <td>3.28</td>\n",
       "      <td>2.96</td>\n",
       "      <td>33.00</td>\n",
       "    </tr>\n",
       "    <tr>\n",
       "      <th>4</th>\n",
       "      <td>5</td>\n",
       "      <td>Pokemon Red/Pokemon Blue</td>\n",
       "      <td>GB</td>\n",
       "      <td>1996.0</td>\n",
       "      <td>Role-Playing</td>\n",
       "      <td>Nintendo</td>\n",
       "      <td>11.27</td>\n",
       "      <td>8.89</td>\n",
       "      <td>10.22</td>\n",
       "      <td>1.00</td>\n",
       "      <td>31.37</td>\n",
       "    </tr>\n",
       "  </tbody>\n",
       "</table>\n",
       "</div>"
      ],
      "text/plain": [
       "   Rank                      Name Platform    Year         Genre Publisher  \\\n",
       "0     1                Wii Sports      Wii  2006.0        Sports  Nintendo   \n",
       "1     2         Super Mario Bros.      NES  1985.0      Platform  Nintendo   \n",
       "2     3            Mario Kart Wii      Wii  2008.0        Racing  Nintendo   \n",
       "3     4         Wii Sports Resort      Wii  2009.0        Sports  Nintendo   \n",
       "4     5  Pokemon Red/Pokemon Blue       GB  1996.0  Role-Playing  Nintendo   \n",
       "\n",
       "   NA_Sales  EU_Sales  JP_Sales  Other_Sales  Global_Sales  \n",
       "0     41.49     29.02      3.77         8.46         82.74  \n",
       "1     29.08      3.58      6.81         0.77         40.24  \n",
       "2     15.85     12.88      3.79         3.31         35.82  \n",
       "3     15.75     11.01      3.28         2.96         33.00  \n",
       "4     11.27      8.89     10.22         1.00         31.37  "
      ]
     },
     "execution_count": 4,
     "metadata": {},
     "output_type": "execute_result"
    }
   ],
   "source": [
    "data.head()"
   ]
  },
  {
   "cell_type": "code",
   "execution_count": 5,
   "id": "420baaf6",
   "metadata": {},
   "outputs": [
    {
     "data": {
      "text/plain": [
       "Rank              int64\n",
       "Name             object\n",
       "Platform         object\n",
       "Year            float64\n",
       "Genre            object\n",
       "Publisher        object\n",
       "NA_Sales        float64\n",
       "EU_Sales        float64\n",
       "JP_Sales        float64\n",
       "Other_Sales     float64\n",
       "Global_Sales    float64\n",
       "dtype: object"
      ]
     },
     "execution_count": 5,
     "metadata": {},
     "output_type": "execute_result"
    }
   ],
   "source": [
    "data.dtypes"
   ]
  },
  {
   "cell_type": "code",
   "execution_count": 6,
   "id": "cf61100c",
   "metadata": {},
   "outputs": [
    {
     "data": {
      "text/plain": [
       "Rank              0\n",
       "Name              0\n",
       "Platform          0\n",
       "Year            271\n",
       "Genre             0\n",
       "Publisher        58\n",
       "NA_Sales          0\n",
       "EU_Sales          0\n",
       "JP_Sales          0\n",
       "Other_Sales       0\n",
       "Global_Sales      0\n",
       "dtype: int64"
      ]
     },
     "execution_count": 6,
     "metadata": {},
     "output_type": "execute_result"
    }
   ],
   "source": [
    "data.isnull().sum()"
   ]
  },
  {
   "cell_type": "markdown",
   "id": "73c98d6e",
   "metadata": {},
   "source": [
    "### Проведем устранения пропуска для признака \"Publisher\"  \n",
    "Введем отдельное значение категории для пропущенных значений. \n",
    "\n",
    "Основное преимущество такого подхода состоит в том, что не дается никаких предположений о распределении пропущенных значений."
   ]
  },
  {
   "cell_type": "code",
   "execution_count": 7,
   "id": "26436701",
   "metadata": {},
   "outputs": [],
   "source": [
    "# Воспользуемся функцией приведенной в лекции\n",
    "def impute_column(dataset, column, strategy_param, fill_value_param=None):\n",
    "    \"\"\"\n",
    "    Заполнение пропусков в одном признаке\n",
    "    \"\"\"\n",
    "    temp_data = dataset[[column]].values\n",
    "    size = temp_data.shape[0]\n",
    "    \n",
    "    indicator = MissingIndicator()\n",
    "    mask_missing_values_only = indicator.fit_transform(temp_data)\n",
    "    \n",
    "    imputer = SimpleImputer(strategy=strategy_param, \n",
    "                            fill_value=fill_value_param)\n",
    "    all_data = imputer.fit_transform(temp_data)\n",
    "    \n",
    "    missed_data = temp_data[mask_missing_values_only]\n",
    "    filled_data = all_data[mask_missing_values_only]\n",
    "    \n",
    "    return all_data.reshape((size,))"
   ]
  },
  {
   "cell_type": "code",
   "execution_count": 8,
   "id": "7caad30e",
   "metadata": {},
   "outputs": [],
   "source": [
    "Data_with_na=data['Publisher']"
   ]
  },
  {
   "cell_type": "code",
   "execution_count": 9,
   "id": "6ef44a22",
   "metadata": {},
   "outputs": [],
   "source": [
    "Publisher_new = impute_column(data, 'Publisher', 'constant', fill_value_param='NA')"
   ]
  },
  {
   "cell_type": "code",
   "execution_count": 10,
   "id": "998a3ba8",
   "metadata": {},
   "outputs": [],
   "source": [
    "data['Publisher']=Publisher_new"
   ]
  },
  {
   "cell_type": "code",
   "execution_count": 11,
   "id": "0898f89b",
   "metadata": {
    "scrolled": true
   },
   "outputs": [
    {
     "data": {
      "text/plain": [
       "Rank              0\n",
       "Name              0\n",
       "Platform          0\n",
       "Year            271\n",
       "Genre             0\n",
       "Publisher         0\n",
       "NA_Sales          0\n",
       "EU_Sales          0\n",
       "JP_Sales          0\n",
       "Other_Sales       0\n",
       "Global_Sales      0\n",
       "dtype: int64"
      ]
     },
     "execution_count": 11,
     "metadata": {},
     "output_type": "execute_result"
    }
   ],
   "source": [
    "data.isnull().sum()"
   ]
  },
  {
   "cell_type": "markdown",
   "id": "6a600253",
   "metadata": {},
   "source": [
    "Устранили пропуски."
   ]
  },
  {
   "cell_type": "code",
   "execution_count": 12,
   "id": "9e269166",
   "metadata": {
    "scrolled": true
   },
   "outputs": [
    {
     "name": "stdout",
     "output_type": "stream",
     "text": [
      "Количество импьютированных значений:  58\n"
     ]
    }
   ],
   "source": [
    "print(\"Количество импьютированных значений: \", data['Publisher'].value_counts()['NA'])"
   ]
  },
  {
   "cell_type": "code",
   "execution_count": 13,
   "id": "db39fdd0",
   "metadata": {},
   "outputs": [
    {
     "data": {
      "text/html": [
       "<div>\n",
       "<style scoped>\n",
       "    .dataframe tbody tr th:only-of-type {\n",
       "        vertical-align: middle;\n",
       "    }\n",
       "\n",
       "    .dataframe tbody tr th {\n",
       "        vertical-align: top;\n",
       "    }\n",
       "\n",
       "    .dataframe thead th {\n",
       "        text-align: right;\n",
       "    }\n",
       "</style>\n",
       "<table border=\"1\" class=\"dataframe\">\n",
       "  <thead>\n",
       "    <tr style=\"text-align: right;\">\n",
       "      <th></th>\n",
       "      <th>Rank</th>\n",
       "      <th>Name</th>\n",
       "      <th>Platform</th>\n",
       "      <th>Year</th>\n",
       "      <th>Genre</th>\n",
       "      <th>Publisher</th>\n",
       "      <th>NA_Sales</th>\n",
       "      <th>EU_Sales</th>\n",
       "      <th>JP_Sales</th>\n",
       "      <th>Other_Sales</th>\n",
       "      <th>Global_Sales</th>\n",
       "    </tr>\n",
       "  </thead>\n",
       "  <tbody>\n",
       "    <tr>\n",
       "      <th>470</th>\n",
       "      <td>471</td>\n",
       "      <td>wwe Smackdown vs. Raw 2006</td>\n",
       "      <td>PS2</td>\n",
       "      <td>NaN</td>\n",
       "      <td>Fighting</td>\n",
       "      <td>NA</td>\n",
       "      <td>1.57</td>\n",
       "      <td>1.02</td>\n",
       "      <td>0.0</td>\n",
       "      <td>0.41</td>\n",
       "      <td>3.00</td>\n",
       "    </tr>\n",
       "    <tr>\n",
       "      <th>1303</th>\n",
       "      <td>1305</td>\n",
       "      <td>Triple Play 99</td>\n",
       "      <td>PS</td>\n",
       "      <td>NaN</td>\n",
       "      <td>Sports</td>\n",
       "      <td>NA</td>\n",
       "      <td>0.81</td>\n",
       "      <td>0.55</td>\n",
       "      <td>0.0</td>\n",
       "      <td>0.10</td>\n",
       "      <td>1.46</td>\n",
       "    </tr>\n",
       "    <tr>\n",
       "      <th>1662</th>\n",
       "      <td>1664</td>\n",
       "      <td>Shrek / Shrek 2 2-in-1 Gameboy Advance Video</td>\n",
       "      <td>GBA</td>\n",
       "      <td>2007.0</td>\n",
       "      <td>Misc</td>\n",
       "      <td>NA</td>\n",
       "      <td>0.87</td>\n",
       "      <td>0.32</td>\n",
       "      <td>0.0</td>\n",
       "      <td>0.02</td>\n",
       "      <td>1.21</td>\n",
       "    </tr>\n",
       "    <tr>\n",
       "      <th>2222</th>\n",
       "      <td>2224</td>\n",
       "      <td>Bentley's Hackpack</td>\n",
       "      <td>GBA</td>\n",
       "      <td>2005.0</td>\n",
       "      <td>Misc</td>\n",
       "      <td>NA</td>\n",
       "      <td>0.67</td>\n",
       "      <td>0.25</td>\n",
       "      <td>0.0</td>\n",
       "      <td>0.02</td>\n",
       "      <td>0.93</td>\n",
       "    </tr>\n",
       "    <tr>\n",
       "      <th>3159</th>\n",
       "      <td>3161</td>\n",
       "      <td>Nicktoons Collection: Game Boy Advance Video V...</td>\n",
       "      <td>GBA</td>\n",
       "      <td>2004.0</td>\n",
       "      <td>Misc</td>\n",
       "      <td>NA</td>\n",
       "      <td>0.46</td>\n",
       "      <td>0.17</td>\n",
       "      <td>0.0</td>\n",
       "      <td>0.01</td>\n",
       "      <td>0.64</td>\n",
       "    </tr>\n",
       "  </tbody>\n",
       "</table>\n",
       "</div>"
      ],
      "text/plain": [
       "      Rank                                               Name Platform  \\\n",
       "470    471                         wwe Smackdown vs. Raw 2006      PS2   \n",
       "1303  1305                                     Triple Play 99       PS   \n",
       "1662  1664       Shrek / Shrek 2 2-in-1 Gameboy Advance Video      GBA   \n",
       "2222  2224                                 Bentley's Hackpack      GBA   \n",
       "3159  3161  Nicktoons Collection: Game Boy Advance Video V...      GBA   \n",
       "\n",
       "        Year     Genre Publisher  NA_Sales  EU_Sales  JP_Sales  Other_Sales  \\\n",
       "470      NaN  Fighting        NA      1.57      1.02       0.0         0.41   \n",
       "1303     NaN    Sports        NA      0.81      0.55       0.0         0.10   \n",
       "1662  2007.0      Misc        NA      0.87      0.32       0.0         0.02   \n",
       "2222  2005.0      Misc        NA      0.67      0.25       0.0         0.02   \n",
       "3159  2004.0      Misc        NA      0.46      0.17       0.0         0.01   \n",
       "\n",
       "      Global_Sales  \n",
       "470           3.00  \n",
       "1303          1.46  \n",
       "1662          1.21  \n",
       "2222          0.93  \n",
       "3159          0.64  "
      ]
     },
     "execution_count": 13,
     "metadata": {},
     "output_type": "execute_result"
    }
   ],
   "source": [
    "data[data.Publisher == 'NA'].head()"
   ]
  },
  {
   "cell_type": "markdown",
   "id": "aabc6097",
   "metadata": {},
   "source": [
    "## Задача №2"
   ]
  },
  {
   "cell_type": "code",
   "execution_count": 14,
   "id": "35c38775",
   "metadata": {},
   "outputs": [],
   "source": [
    "data = pd.read_csv(\"../diabetes.csv\")"
   ]
  },
  {
   "cell_type": "code",
   "execution_count": 15,
   "id": "aa8f04c4",
   "metadata": {},
   "outputs": [
    {
     "data": {
      "text/html": [
       "<div>\n",
       "<style scoped>\n",
       "    .dataframe tbody tr th:only-of-type {\n",
       "        vertical-align: middle;\n",
       "    }\n",
       "\n",
       "    .dataframe tbody tr th {\n",
       "        vertical-align: top;\n",
       "    }\n",
       "\n",
       "    .dataframe thead th {\n",
       "        text-align: right;\n",
       "    }\n",
       "</style>\n",
       "<table border=\"1\" class=\"dataframe\">\n",
       "  <thead>\n",
       "    <tr style=\"text-align: right;\">\n",
       "      <th></th>\n",
       "      <th>Pregnancies</th>\n",
       "      <th>Glucose</th>\n",
       "      <th>BloodPressure</th>\n",
       "      <th>SkinThickness</th>\n",
       "      <th>Insulin</th>\n",
       "      <th>BMI</th>\n",
       "      <th>DiabetesPedigreeFunction</th>\n",
       "      <th>Age</th>\n",
       "      <th>Outcome</th>\n",
       "    </tr>\n",
       "  </thead>\n",
       "  <tbody>\n",
       "    <tr>\n",
       "      <th>0</th>\n",
       "      <td>6</td>\n",
       "      <td>148</td>\n",
       "      <td>72</td>\n",
       "      <td>35</td>\n",
       "      <td>0</td>\n",
       "      <td>33.6</td>\n",
       "      <td>0.627</td>\n",
       "      <td>50</td>\n",
       "      <td>1</td>\n",
       "    </tr>\n",
       "    <tr>\n",
       "      <th>1</th>\n",
       "      <td>1</td>\n",
       "      <td>85</td>\n",
       "      <td>66</td>\n",
       "      <td>29</td>\n",
       "      <td>0</td>\n",
       "      <td>26.6</td>\n",
       "      <td>0.351</td>\n",
       "      <td>31</td>\n",
       "      <td>0</td>\n",
       "    </tr>\n",
       "    <tr>\n",
       "      <th>2</th>\n",
       "      <td>8</td>\n",
       "      <td>183</td>\n",
       "      <td>64</td>\n",
       "      <td>0</td>\n",
       "      <td>0</td>\n",
       "      <td>23.3</td>\n",
       "      <td>0.672</td>\n",
       "      <td>32</td>\n",
       "      <td>1</td>\n",
       "    </tr>\n",
       "    <tr>\n",
       "      <th>3</th>\n",
       "      <td>1</td>\n",
       "      <td>89</td>\n",
       "      <td>66</td>\n",
       "      <td>23</td>\n",
       "      <td>94</td>\n",
       "      <td>28.1</td>\n",
       "      <td>0.167</td>\n",
       "      <td>21</td>\n",
       "      <td>0</td>\n",
       "    </tr>\n",
       "    <tr>\n",
       "      <th>4</th>\n",
       "      <td>0</td>\n",
       "      <td>137</td>\n",
       "      <td>40</td>\n",
       "      <td>35</td>\n",
       "      <td>168</td>\n",
       "      <td>43.1</td>\n",
       "      <td>2.288</td>\n",
       "      <td>33</td>\n",
       "      <td>1</td>\n",
       "    </tr>\n",
       "  </tbody>\n",
       "</table>\n",
       "</div>"
      ],
      "text/plain": [
       "   Pregnancies  Glucose  BloodPressure  SkinThickness  Insulin   BMI  \\\n",
       "0            6      148             72             35        0  33.6   \n",
       "1            1       85             66             29        0  26.6   \n",
       "2            8      183             64              0        0  23.3   \n",
       "3            1       89             66             23       94  28.1   \n",
       "4            0      137             40             35      168  43.1   \n",
       "\n",
       "   DiabetesPedigreeFunction  Age  Outcome  \n",
       "0                     0.627   50        1  \n",
       "1                     0.351   31        0  \n",
       "2                     0.672   32        1  \n",
       "3                     0.167   21        0  \n",
       "4                     2.288   33        1  "
      ]
     },
     "execution_count": 15,
     "metadata": {},
     "output_type": "execute_result"
    }
   ],
   "source": [
    "data.head()"
   ]
  },
  {
   "cell_type": "code",
   "execution_count": 16,
   "id": "a220a2f9",
   "metadata": {},
   "outputs": [],
   "source": [
    "X=data.drop(['Outcome'], axis=1)\n",
    "y=data['Outcome']"
   ]
  },
  {
   "cell_type": "markdown",
   "id": "5927a567",
   "metadata": {},
   "source": [
    "### Будем использовать класс 'Sequential Feature Selector' (с параметром конструктора forward=True) из библиотеки MLxtend."
   ]
  },
  {
   "cell_type": "code",
   "execution_count": 17,
   "id": "86a15199",
   "metadata": {},
   "outputs": [],
   "source": [
    "from mlxtend.feature_selection import SequentialFeatureSelector as SFS\n",
    "from sklearn.neighbors import KNeighborsClassifier\n",
    "\n",
    "knn = KNeighborsClassifier(n_neighbors=3)\n",
    "sfs1 = SFS(knn, \n",
    "           k_features=4, \n",
    "           forward=True, \n",
    "           floating=False, \n",
    "           verbose=0,\n",
    "           scoring='accuracy',\n",
    "           cv=4)\n",
    "\n",
    "sfs1 = sfs1.fit(X, y)"
   ]
  },
  {
   "cell_type": "code",
   "execution_count": 18,
   "id": "838f5391",
   "metadata": {},
   "outputs": [
    {
     "data": {
      "text/plain": [
       "{1: {'feature_idx': (1,),\n",
       "  'cv_scores': array([0.67708333, 0.63020833, 0.72916667, 0.72916667]),\n",
       "  'avg_score': 0.69140625,\n",
       "  'feature_names': ('Glucose',)},\n",
       " 2: {'feature_idx': (1, 5),\n",
       "  'cv_scores': array([0.72916667, 0.69270833, 0.74479167, 0.66145833]),\n",
       "  'avg_score': 0.70703125,\n",
       "  'feature_names': ('Glucose', 'BMI')},\n",
       " 3: {'feature_idx': (1, 5, 7),\n",
       "  'cv_scores': array([0.69270833, 0.67708333, 0.765625  , 0.73958333]),\n",
       "  'avg_score': 0.7187500000000001,\n",
       "  'feature_names': ('Glucose', 'BMI', 'Age')},\n",
       " 4: {'feature_idx': (1, 3, 5, 7),\n",
       "  'cv_scores': array([0.71875   , 0.67708333, 0.79166667, 0.71875   ]),\n",
       "  'avg_score': 0.7265625,\n",
       "  'feature_names': ('Glucose', 'SkinThickness', 'BMI', 'Age')}}"
      ]
     },
     "execution_count": 18,
     "metadata": {},
     "output_type": "execute_result"
    }
   ],
   "source": [
    "sfs1.subsets_"
   ]
  },
  {
   "cell_type": "code",
   "execution_count": 19,
   "id": "a2f8023b",
   "metadata": {},
   "outputs": [
    {
     "name": "stdout",
     "output_type": "stream",
     "text": [
      "Отобранные признаки:  'Glucose', 'SkinThickness', 'BMI', 'Age'\n"
     ]
    }
   ],
   "source": [
    "print(\"Отобранные признаки: \", str(sfs1.k_feature_names_)[1:-1])"
   ]
  },
  {
   "cell_type": "code",
   "execution_count": 20,
   "id": "d5ab0a02",
   "metadata": {},
   "outputs": [
    {
     "name": "stdout",
     "output_type": "stream",
     "text": [
      "Оценка для выбранных признаков:  0.7265625\n"
     ]
    }
   ],
   "source": [
    "print(\"Оценка для выбранных признаков: \", sfs1.k_score_)"
   ]
  },
  {
   "cell_type": "markdown",
   "id": "013a9c05",
   "metadata": {},
   "source": [
    "### SFS и GridSearch"
   ]
  },
  {
   "cell_type": "code",
   "execution_count": 21,
   "id": "7ebda847",
   "metadata": {},
   "outputs": [],
   "source": [
    "from sklearn.model_selection import GridSearchCV\n",
    "from sklearn.pipeline import Pipeline\n",
    "from mlxtend.feature_selection import SequentialFeatureSelector as SFS\n",
    "import mlxtend\n",
    "\n",
    "knn1 = KNeighborsClassifier()\n",
    "\n",
    "sfs1 = SFS(estimator=knn1, \n",
    "           k_features=4,\n",
    "           forward=True, \n",
    "           floating=False, \n",
    "           scoring='accuracy',\n",
    "           cv=4)\n",
    "\n",
    "pipe = Pipeline([('sfs', sfs1), \n",
    "                 ('knn1', knn1)])\n",
    "\n",
    "param_grid = {\n",
    "    'sfs__k_features': [1, 2, 3, 4],\n",
    "    'sfs__estimator__n_neighbors': [2, 3, 4]\n",
    "  }\n",
    "\n",
    "gs = GridSearchCV(estimator=pipe, \n",
    "                  param_grid=param_grid, \n",
    "                  scoring='accuracy', \n",
    "                  n_jobs=1, \n",
    "                  cv=4,\n",
    "                  refit=False)\n",
    "\n",
    "# run gridearch\n",
    "gs = gs.fit(X, y)"
   ]
  },
  {
   "cell_type": "code",
   "execution_count": 22,
   "id": "74a8d4a3",
   "metadata": {},
   "outputs": [
    {
     "name": "stdout",
     "output_type": "stream",
     "text": [
      "{'sfs__estimator__n_neighbors': 2, 'sfs__k_features': 1} test acc.: 0.6888020833333334\n",
      "{'sfs__estimator__n_neighbors': 2, 'sfs__k_features': 2} test acc.: 0.7200520833333334\n",
      "{'sfs__estimator__n_neighbors': 2, 'sfs__k_features': 3} test acc.: 0.7161458333333334\n",
      "{'sfs__estimator__n_neighbors': 2, 'sfs__k_features': 4} test acc.: 0.7005208333333334\n",
      "{'sfs__estimator__n_neighbors': 3, 'sfs__k_features': 1} test acc.: 0.6888020833333334\n",
      "{'sfs__estimator__n_neighbors': 3, 'sfs__k_features': 2} test acc.: 0.7200520833333334\n",
      "{'sfs__estimator__n_neighbors': 3, 'sfs__k_features': 3} test acc.: 0.7161458333333334\n",
      "{'sfs__estimator__n_neighbors': 3, 'sfs__k_features': 4} test acc.: 0.7005208333333334\n",
      "{'sfs__estimator__n_neighbors': 4, 'sfs__k_features': 1} test acc.: 0.6888020833333334\n",
      "{'sfs__estimator__n_neighbors': 4, 'sfs__k_features': 2} test acc.: 0.7200520833333334\n",
      "{'sfs__estimator__n_neighbors': 4, 'sfs__k_features': 3} test acc.: 0.7161458333333334\n",
      "{'sfs__estimator__n_neighbors': 4, 'sfs__k_features': 4} test acc.: 0.7005208333333334\n"
     ]
    }
   ],
   "source": [
    "for i in range(len(gs.cv_results_['params'])):\n",
    "    print(gs.cv_results_['params'][i], 'test acc.:', gs.cv_results_['mean_test_score'][i])"
   ]
  },
  {
   "cell_type": "code",
   "execution_count": 23,
   "id": "77bf95f2",
   "metadata": {
    "scrolled": true
   },
   "outputs": [
    {
     "name": "stdout",
     "output_type": "stream",
     "text": [
      "Best parameters via GridSearch {'sfs__estimator__n_neighbors': 2, 'sfs__k_features': 2}\n"
     ]
    }
   ],
   "source": [
    "print(\"Best parameters via GridSearch\", gs.best_params_)"
   ]
  },
  {
   "cell_type": "markdown",
   "id": "9d2b1aa2",
   "metadata": {},
   "source": [
    "### Дополнительное требование"
   ]
  },
  {
   "cell_type": "markdown",
   "id": "0de20664",
   "metadata": {},
   "source": [
    "Построим гистограммы для признака \"Glucose\""
   ]
  },
  {
   "cell_type": "code",
   "execution_count": 24,
   "id": "915447ab",
   "metadata": {},
   "outputs": [],
   "source": [
    "#Диабет\n",
    "out_yes=data[data['Outcome'] == 1]"
   ]
  },
  {
   "cell_type": "code",
   "execution_count": 25,
   "id": "9dda5e80",
   "metadata": {},
   "outputs": [],
   "source": [
    "#Нет диабета\n",
    "out_no=data[data['Outcome'] == 0]"
   ]
  },
  {
   "cell_type": "code",
   "execution_count": 26,
   "id": "bb720463",
   "metadata": {},
   "outputs": [
    {
     "data": {
      "text/plain": [
       "Text(0.5, 1.0, 'Уровень глюкозы при диабете')"
      ]
     },
     "execution_count": 26,
     "metadata": {},
     "output_type": "execute_result"
    },
    {
     "data": {
      "image/png": "[encoded data removed]",
      "text/plain": [
       "<Figure size 648x648 with 1 Axes>"
      ]
     },
     "metadata": {},
     "output_type": "display_data"
    }
   ],
   "source": [
    "fig, ax = plt.subplots(figsize = (9, 9))\n",
    "#plot\n",
    "ax.hist(out_yes[\"Glucose\"], bins=40, edgecolor=\"black\");\n",
    "plt.title('Уровень глюкозы при диабете', fontsize=18)"
   ]
  },
  {
   "cell_type": "code",
   "execution_count": 27,
   "id": "82f01ed7",
   "metadata": {},
   "outputs": [
    {
     "data": {
      "text/plain": [
       "Text(0.5, 1.0, 'Уровень глюкозы при отсутствии диабета')"
      ]
     },
     "execution_count": 27,
     "metadata": {},
     "output_type": "execute_result"
    },
    {
     "data": {
      "image/png": "[encoded data removed]",
      "text/plain": [
       "<Figure size 648x648 with 1 Axes>"
      ]
     },
     "metadata": {},
     "output_type": "display_data"
    }
   ],
   "source": [
    "fig, ax = plt.subplots(figsize = (9, 9))\n",
    "#plot\n",
    "ax.hist(out_no[\"Glucose\"], bins=40, edgecolor=\"black\");\n",
    "plt.title('Уровень глюкозы при отсутствии диабета', fontsize=18)"
   ]
  }
 ],
 "metadata": {
  "kernelspec": {
   "display_name": "Python 3 (ipykernel)",
   "language": "python",
   "name": "python3"
  },
  "language_info": {
   "codemirror_mode": {
    "name": "ipython",
    "version": 3
   },
   "file_extension": ".py",
   "mimetype": "text/x-python",
   "name": "python",
   "nbconvert_exporter": "python",
   "pygments_lexer": "ipython3",
   "version": "3.9.7"
  }
 },
 "nbformat": 4,
 "nbformat_minor": 5
}
